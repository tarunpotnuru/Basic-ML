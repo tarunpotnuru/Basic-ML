{
  "nbformat": 4,
  "nbformat_minor": 0,
  "metadata": {
    "colab": {
      "name": "sample_codes.ipynb",
      "provenance": [],
      "authorship_tag": "ABX9TyMN9RK2LKo2xtcPsdu5Qk9R",
      "include_colab_link": true
    },
    "kernelspec": {
      "name": "python3",
      "display_name": "Python 3"
    },
    "language_info": {
      "name": "python"
    }
  },
  "cells": [
    {
      "cell_type": "markdown",
      "metadata": {
        "id": "view-in-github",
        "colab_type": "text"
      },
      "source": [
        "<a href=\"https://colab.research.google.com/github/tarunpotnuru/Basic-ML/blob/main/sample_codes.ipynb\" target=\"_parent\"><img src=\"https://colab.research.google.com/assets/colab-badge.svg\" alt=\"Open In Colab\"/></a>"
      ]
    },
    {
      "cell_type": "markdown",
      "metadata": {
        "id": "ebQTjYrydWw9"
      },
      "source": [
        "1. Python program to print a given list in reverse order"
      ]
    },
    {
      "cell_type": "code",
      "metadata": {
        "id": "2eubq8nKdf0t",
        "colab": {
          "base_uri": "https://localhost:8080/"
        },
        "outputId": "1a2801a3-9def-4e37-e7a0-b47a4ddbd985"
      },
      "source": [
        "tar=[int(x) for x in input().split()]\n",
        "print(tar[::-1])"
      ],
      "execution_count": 1,
      "outputs": [
        {
          "output_type": "stream",
          "text": [
            "2 5 8 6 2\n",
            "[2, 6, 8, 5, 2]\n"
          ],
          "name": "stdout"
        }
      ]
    },
    {
      "cell_type": "markdown",
      "metadata": {
        "id": "ns-dfNu2d4nB"
      },
      "source": [
        "2. Python program to print sum of 3 numbers"
      ]
    },
    {
      "cell_type": "code",
      "metadata": {
        "id": "GOOwYJP3ePil",
        "colab": {
          "base_uri": "https://localhost:8080/"
        },
        "outputId": "ce632d8e-463a-4ac2-9d4c-825ced01c265"
      },
      "source": [
        "a = int(input())\n",
        "print(a+b+c)"
      ],
      "execution_count": 2,
      "outputs": [
        {
          "output_type": "stream",
          "text": [
            "5\n",
            "5\n",
            "8\n",
            "18\n"
          ],
          "name": "stdout"
        }
      ]
    },
    {
      "cell_type": "markdown",
      "metadata": {
        "id": "wLDH6awxeVNC"
      },
      "source": [
        "3. Python program tp print the area of right angle triangle"
      ]
    },
    {
      "cell_type": "code",
      "metadata": {
        "id": "HTKL0DI1epI-",
        "colab": {
          "base_uri": "https://localhost:8080/"
        },
        "outputId": "49d969ca-89e7-4c17-bb05-9188d0bf3bf8"
      },
      "source": [
        "a=int(input())\n",
        "b = int(input())\n",
        "print(0.5*a*b)"
      ],
      "execution_count": 4,
      "outputs": [
        {
          "output_type": "stream",
          "text": [
            "5\n",
            "6\n",
            "15.0\n"
          ],
          "name": "stdout"
        }
      ]
    }
  ]
}